{
 "cells": [
  {
   "cell_type": "markdown",
   "metadata": {},
   "source": [
    "# FEMA Data: Modeling"
   ]
  },
  {
   "cell_type": "markdown",
   "metadata": {},
   "source": [
    "This notebook picks up after the preprocessing step."
   ]
  },
  {
   "cell_type": "code",
   "execution_count": 1,
   "metadata": {},
   "outputs": [
    {
     "name": "stderr",
     "output_type": "stream",
     "text": [
      "/opt/anaconda3/lib/python3.7/site-packages/statsmodels/tools/_testing.py:19: FutureWarning: pandas.util.testing is deprecated. Use the functions in the public API at pandas.testing instead.\n",
      "  import pandas.util.testing as tm\n"
     ]
    }
   ],
   "source": [
    "# Import packages\n",
    "import numpy as np\n",
    "import pandas as pd\n",
    "import matplotlib.pyplot as plt\n",
    "import seaborn as sns"
   ]
  },
  {
   "cell_type": "code",
   "execution_count": 2,
   "metadata": {},
   "outputs": [
    {
     "data": {
      "text/html": [
       "<div>\n",
       "<style scoped>\n",
       "    .dataframe tbody tr th:only-of-type {\n",
       "        vertical-align: middle;\n",
       "    }\n",
       "\n",
       "    .dataframe tbody tr th {\n",
       "        vertical-align: top;\n",
       "    }\n",
       "\n",
       "    .dataframe thead th {\n",
       "        text-align: right;\n",
       "    }\n",
       "</style>\n",
       "<table border=\"1\" class=\"dataframe\">\n",
       "  <thead>\n",
       "    <tr style=\"text-align: right;\">\n",
       "      <th></th>\n",
       "      <th>basefloodelevation</th>\n",
       "      <th>policycount</th>\n",
       "      <th>elevationdifference</th>\n",
       "      <th>lowestadjacentgrade</th>\n",
       "      <th>lowestfloorelevation</th>\n",
       "      <th>numberoffloorsintheinsuredbuilding</th>\n",
       "      <th>amountpaidonbuildingclaim</th>\n",
       "      <th>amountpaidoncontentsclaim</th>\n",
       "      <th>amountpaidonincreasedcostofcomplianceclaim</th>\n",
       "      <th>totalbuildinginsurancecoverage</th>\n",
       "      <th>...</th>\n",
       "      <th>state_TX</th>\n",
       "      <th>state_UT</th>\n",
       "      <th>state_VA</th>\n",
       "      <th>state_VI</th>\n",
       "      <th>state_VT</th>\n",
       "      <th>state_WA</th>\n",
       "      <th>state_WI</th>\n",
       "      <th>state_WV</th>\n",
       "      <th>state_WY</th>\n",
       "      <th>state_not_given</th>\n",
       "    </tr>\n",
       "  </thead>\n",
       "  <tbody>\n",
       "    <tr>\n",
       "      <th>0</th>\n",
       "      <td>8.0</td>\n",
       "      <td>1.0</td>\n",
       "      <td>999.0</td>\n",
       "      <td>0.0</td>\n",
       "      <td>10.0</td>\n",
       "      <td>4.0</td>\n",
       "      <td>0.00</td>\n",
       "      <td>0.0</td>\n",
       "      <td>0.0</td>\n",
       "      <td>200000.0</td>\n",
       "      <td>...</td>\n",
       "      <td>0</td>\n",
       "      <td>0</td>\n",
       "      <td>0</td>\n",
       "      <td>0</td>\n",
       "      <td>0</td>\n",
       "      <td>0</td>\n",
       "      <td>0</td>\n",
       "      <td>0</td>\n",
       "      <td>0</td>\n",
       "      <td>0</td>\n",
       "    </tr>\n",
       "    <tr>\n",
       "      <th>1</th>\n",
       "      <td>8.0</td>\n",
       "      <td>1.0</td>\n",
       "      <td>999.0</td>\n",
       "      <td>0.0</td>\n",
       "      <td>10.0</td>\n",
       "      <td>2.0</td>\n",
       "      <td>0.00</td>\n",
       "      <td>0.0</td>\n",
       "      <td>0.0</td>\n",
       "      <td>100000.0</td>\n",
       "      <td>...</td>\n",
       "      <td>0</td>\n",
       "      <td>0</td>\n",
       "      <td>0</td>\n",
       "      <td>0</td>\n",
       "      <td>0</td>\n",
       "      <td>0</td>\n",
       "      <td>0</td>\n",
       "      <td>0</td>\n",
       "      <td>0</td>\n",
       "      <td>0</td>\n",
       "    </tr>\n",
       "    <tr>\n",
       "      <th>2</th>\n",
       "      <td>8.0</td>\n",
       "      <td>1.0</td>\n",
       "      <td>999.0</td>\n",
       "      <td>0.0</td>\n",
       "      <td>10.0</td>\n",
       "      <td>1.0</td>\n",
       "      <td>8813.21</td>\n",
       "      <td>1720.0</td>\n",
       "      <td>0.0</td>\n",
       "      <td>100000.0</td>\n",
       "      <td>...</td>\n",
       "      <td>0</td>\n",
       "      <td>0</td>\n",
       "      <td>0</td>\n",
       "      <td>0</td>\n",
       "      <td>0</td>\n",
       "      <td>0</td>\n",
       "      <td>0</td>\n",
       "      <td>0</td>\n",
       "      <td>0</td>\n",
       "      <td>0</td>\n",
       "    </tr>\n",
       "    <tr>\n",
       "      <th>3</th>\n",
       "      <td>8.0</td>\n",
       "      <td>1.0</td>\n",
       "      <td>999.0</td>\n",
       "      <td>0.0</td>\n",
       "      <td>10.0</td>\n",
       "      <td>2.0</td>\n",
       "      <td>2906.00</td>\n",
       "      <td>0.0</td>\n",
       "      <td>0.0</td>\n",
       "      <td>100000.0</td>\n",
       "      <td>...</td>\n",
       "      <td>0</td>\n",
       "      <td>0</td>\n",
       "      <td>0</td>\n",
       "      <td>0</td>\n",
       "      <td>0</td>\n",
       "      <td>0</td>\n",
       "      <td>0</td>\n",
       "      <td>0</td>\n",
       "      <td>0</td>\n",
       "      <td>0</td>\n",
       "    </tr>\n",
       "    <tr>\n",
       "      <th>4</th>\n",
       "      <td>8.0</td>\n",
       "      <td>1.0</td>\n",
       "      <td>999.0</td>\n",
       "      <td>0.0</td>\n",
       "      <td>10.0</td>\n",
       "      <td>1.0</td>\n",
       "      <td>3875.53</td>\n",
       "      <td>1545.0</td>\n",
       "      <td>0.0</td>\n",
       "      <td>100000.0</td>\n",
       "      <td>...</td>\n",
       "      <td>0</td>\n",
       "      <td>0</td>\n",
       "      <td>0</td>\n",
       "      <td>0</td>\n",
       "      <td>0</td>\n",
       "      <td>0</td>\n",
       "      <td>0</td>\n",
       "      <td>0</td>\n",
       "      <td>0</td>\n",
       "      <td>0</td>\n",
       "    </tr>\n",
       "  </tbody>\n",
       "</table>\n",
       "<p>5 rows × 203 columns</p>\n",
       "</div>"
      ],
      "text/plain": [
       "   basefloodelevation  policycount  elevationdifference  lowestadjacentgrade  \\\n",
       "0                 8.0          1.0                999.0                  0.0   \n",
       "1                 8.0          1.0                999.0                  0.0   \n",
       "2                 8.0          1.0                999.0                  0.0   \n",
       "3                 8.0          1.0                999.0                  0.0   \n",
       "4                 8.0          1.0                999.0                  0.0   \n",
       "\n",
       "   lowestfloorelevation  numberoffloorsintheinsuredbuilding  \\\n",
       "0                  10.0                                 4.0   \n",
       "1                  10.0                                 2.0   \n",
       "2                  10.0                                 1.0   \n",
       "3                  10.0                                 2.0   \n",
       "4                  10.0                                 1.0   \n",
       "\n",
       "   amountpaidonbuildingclaim  amountpaidoncontentsclaim  \\\n",
       "0                       0.00                        0.0   \n",
       "1                       0.00                        0.0   \n",
       "2                    8813.21                     1720.0   \n",
       "3                    2906.00                        0.0   \n",
       "4                    3875.53                     1545.0   \n",
       "\n",
       "   amountpaidonincreasedcostofcomplianceclaim  totalbuildinginsurancecoverage  \\\n",
       "0                                         0.0                        200000.0   \n",
       "1                                         0.0                        100000.0   \n",
       "2                                         0.0                        100000.0   \n",
       "3                                         0.0                        100000.0   \n",
       "4                                         0.0                        100000.0   \n",
       "\n",
       "   ...  state_TX  state_UT  state_VA  state_VI  state_VT  state_WA  state_WI  \\\n",
       "0  ...         0         0         0         0         0         0         0   \n",
       "1  ...         0         0         0         0         0         0         0   \n",
       "2  ...         0         0         0         0         0         0         0   \n",
       "3  ...         0         0         0         0         0         0         0   \n",
       "4  ...         0         0         0         0         0         0         0   \n",
       "\n",
       "   state_WV  state_WY  state_not_given  \n",
       "0         0         0                0  \n",
       "1         0         0                0  \n",
       "2         0         0                0  \n",
       "3         0         0                0  \n",
       "4         0         0                0  \n",
       "\n",
       "[5 rows x 203 columns]"
      ]
     },
     "execution_count": 2,
     "metadata": {},
     "output_type": "execute_result"
    }
   ],
   "source": [
    "# Read in cleaned dataset\n",
    "df = pd.read_csv('claimsdata_preprocessed.csv')\n",
    "df.head()"
   ]
  },
  {
   "cell_type": "markdown",
   "metadata": {},
   "source": [
    "### Set up data for modeling"
   ]
  },
  {
   "cell_type": "markdown",
   "metadata": {},
   "source": [
    "Start by separating df into X and y variables. Note to drop features that were derived from response variable."
   ]
  },
  {
   "cell_type": "code",
   "execution_count": 3,
   "metadata": {},
   "outputs": [],
   "source": [
    "X = df.drop(columns=['amountpaidonbuildingclaim', 'amountpaidonbuildingclaim_NaN'])\n",
    "y = df[['amountpaidonbuildingclaim']]"
   ]
  },
  {
   "cell_type": "markdown",
   "metadata": {},
   "source": [
    "Split dataset into train and test sets"
   ]
  },
  {
   "cell_type": "code",
   "execution_count": 4,
   "metadata": {},
   "outputs": [],
   "source": [
    "from sklearn.model_selection import train_test_split\n",
    "\n",
    "# split into train and test\n",
    "X_train, X_test, y_train, y_test = train_test_split(X, y, random_state=123)"
   ]
  },
  {
   "cell_type": "markdown",
   "metadata": {},
   "source": [
    "Fit robust scaler to the training set and then transform both training and test sets. Note use of Robust Scaler because this dataset has outliers."
   ]
  },
  {
   "cell_type": "code",
   "execution_count": 5,
   "metadata": {},
   "outputs": [],
   "source": [
    "from sklearn.preprocessing import RobustScaler\n",
    "\n",
    "# intiate scaler, fit and transform\n",
    "scaler = RobustScaler()\n",
    "scaler.fit(X_train)\n",
    "\n",
    "X_train_scaled = scaler.transform(X_train)\n",
    "X_test_scaled = scaler.transform(X_test)"
   ]
  },
  {
   "cell_type": "markdown",
   "metadata": {},
   "source": [
    "### Initial model fitting: Linear Regression"
   ]
  },
  {
   "cell_type": "markdown",
   "metadata": {},
   "source": [
    "Start by fitting a simple linear regression model to the dataset."
   ]
  },
  {
   "cell_type": "code",
   "execution_count": 6,
   "metadata": {},
   "outputs": [],
   "source": [
    "from sklearn.linear_model import LinearRegression\n",
    "\n",
    "# fit regressor to train data\n",
    "LR = LinearRegression()\n",
    "LR.fit(X_train_scaled, y_train)\n",
    "\n",
    "# predict on test set\n",
    "y_pred = LR.predict(X_test_scaled)"
   ]
  },
  {
   "cell_type": "markdown",
   "metadata": {},
   "source": [
    "Set up metrics to track performance of different models"
   ]
  },
  {
   "cell_type": "code",
   "execution_count": 7,
   "metadata": {},
   "outputs": [],
   "source": [
    "from sklearn.metrics import mean_squared_error, r2_score, mean_absolute_error\n",
    "\n",
    "# set up metrics dict\n",
    "metrics = {'metrics':['MSE', 'MAE', 'R2']}\n",
    "\n",
    "# add metrics for initial linear regression model\n",
    "metrics['LR'] = [mean_squared_error(y_test, y_pred), mean_absolute_error(y_test, y_pred), r2_score(y_test, y_pred)]"
   ]
  },
  {
   "cell_type": "code",
   "execution_count": 8,
   "metadata": {},
   "outputs": [
    {
     "data": {
      "text/html": [
       "<div>\n",
       "<style scoped>\n",
       "    .dataframe tbody tr th:only-of-type {\n",
       "        vertical-align: middle;\n",
       "    }\n",
       "\n",
       "    .dataframe tbody tr th {\n",
       "        vertical-align: top;\n",
       "    }\n",
       "\n",
       "    .dataframe thead th {\n",
       "        text-align: right;\n",
       "    }\n",
       "</style>\n",
       "<table border=\"1\" class=\"dataframe\">\n",
       "  <thead>\n",
       "    <tr style=\"text-align: right;\">\n",
       "      <th></th>\n",
       "      <th>metrics</th>\n",
       "      <th>LR</th>\n",
       "    </tr>\n",
       "  </thead>\n",
       "  <tbody>\n",
       "    <tr>\n",
       "      <th>0</th>\n",
       "      <td>MSE</td>\n",
       "      <td>2.224825e+09</td>\n",
       "    </tr>\n",
       "    <tr>\n",
       "      <th>1</th>\n",
       "      <td>MAE</td>\n",
       "      <td>1.933552e+04</td>\n",
       "    </tr>\n",
       "    <tr>\n",
       "      <th>2</th>\n",
       "      <td>R2</td>\n",
       "      <td>2.023229e-01</td>\n",
       "    </tr>\n",
       "  </tbody>\n",
       "</table>\n",
       "</div>"
      ],
      "text/plain": [
       "  metrics            LR\n",
       "0     MSE  2.224825e+09\n",
       "1     MAE  1.933552e+04\n",
       "2      R2  2.023229e-01"
      ]
     },
     "execution_count": 8,
     "metadata": {},
     "output_type": "execute_result"
    }
   ],
   "source": [
    "metrics = pd.DataFrame(metrics)\n",
    "metrics"
   ]
  },
  {
   "cell_type": "markdown",
   "metadata": {},
   "source": [
    "Explore results of initial linear regression by looking at residual plots with respect to continuous variables."
   ]
  },
  {
   "cell_type": "markdown",
   "metadata": {},
   "source": [
    "elevationdifference: note anomalies around 0 and 1000. Consider new feature engineering to further capture this pattern."
   ]
  },
  {
   "cell_type": "code",
   "execution_count": 9,
   "metadata": {},
   "outputs": [
    {
     "data": {
      "image/png": "[encoded data removed]",
      "text/plain": [
       "<Figure size 432x288 with 1 Axes>"
      ]
     },
     "metadata": {
      "needs_background": "light"
     },
     "output_type": "display_data"
    }
   ],
   "source": [
    "# plotting residuals on elevation difference\n",
    "\n",
    "residuals = (y_pred - y_test)\n",
    "\n",
    "_ = sns.scatterplot(x=np.array(X_test)[:,2], y=np.squeeze(residuals))\n",
    "_ = plt.xlim(-1000, 1200)\n",
    "_ = plt.ylim(-1000000, 1000000)\n",
    "_ = plt.ylabel('Residuals (pred-test)')\n",
    "_ = plt.xlabel('Elevation Difference')\n",
    "plt.show()"
   ]
  },
  {
   "cell_type": "markdown",
   "metadata": {},
   "source": [
    "basefloodelevation: note some very large outliers. In general, large various around 0. The model seems to predict better as BFE gets larger. Model also seems to underpredict (test values > pred values). Consider for feature engineering."
   ]
  },
  {
   "cell_type": "code",
   "execution_count": 10,
   "metadata": {},
   "outputs": [
    {
     "data": {
      "image/png": "[encoded data removed]",
      "text/plain": [
       "<Figure size 432x288 with 1 Axes>"
      ]
     },
     "metadata": {
      "needs_background": "light"
     },
     "output_type": "display_data"
    }
   ],
   "source": [
    "# plotting residuals on base flood elevation\n",
    "\n",
    "residuals = (y_pred - y_test)\n",
    "\n",
    "_ = sns.scatterplot(x=np.array(X_test)[:,0], y=np.squeeze(residuals))\n",
    "_ = plt.xlim(-500, 1500)\n",
    "_ = plt.ylim(-800000, 800000)\n",
    "_ = plt.ylabel('Residuals (pred-test)')\n",
    "_ = plt.xlabel('Base Flood Elevation')\n",
    "plt.show()"
   ]
  },
  {
   "cell_type": "markdown",
   "metadata": {},
   "source": [
    "lowestadjacentgrade and lowestfloorelevation show similar patterns"
   ]
  },
  {
   "cell_type": "code",
   "execution_count": 11,
   "metadata": {},
   "outputs": [
    {
     "data": {
      "image/png": "[encoded data removed]",
      "text/plain": [
       "<Figure size 432x288 with 1 Axes>"
      ]
     },
     "metadata": {
      "needs_background": "light"
     },
     "output_type": "display_data"
    }
   ],
   "source": [
    "# plotting residuals on lowest adjacent grade\n",
    "\n",
    "residuals = (y_pred - y_test)\n",
    "\n",
    "_ = sns.scatterplot(x=np.array(X_test)[:,3], y=np.squeeze(residuals))\n",
    "_ = plt.xlim(-2000, 30000)\n",
    "_ = plt.ylim(-500000, 300000)\n",
    "_ = plt.ylabel('Residuals (pred-test)')\n",
    "_ = plt.xlabel('Lowest Adjacent Grade')\n",
    "plt.show()"
   ]
  },
  {
   "cell_type": "code",
   "execution_count": 12,
   "metadata": {},
   "outputs": [
    {
     "data": {
      "image/png": "[encoded data removed]",
      "text/plain": [
       "<Figure size 432x288 with 1 Axes>"
      ]
     },
     "metadata": {
      "needs_background": "light"
     },
     "output_type": "display_data"
    }
   ],
   "source": [
    "# plotting residuals on lowest floor elevation\n",
    "\n",
    "residuals = (y_pred - y_test)\n",
    "\n",
    "_ = sns.scatterplot(x=np.array(X_test)[:,4], y=np.squeeze(residuals))\n",
    "_ = plt.xlim(-2000, 30000)\n",
    "_ = plt.ylim(-500000, 300000)\n",
    "_ = plt.ylabel('Residuals (pred-test)')\n",
    "_ = plt.xlabel('Lowest Floor Elevation')\n",
    "plt.show()"
   ]
  },
  {
   "cell_type": "code",
   "execution_count": 13,
   "metadata": {},
   "outputs": [
    {
     "data": {
      "image/png": "[encoded data removed]",
      "text/plain": [
       "<Figure size 432x288 with 1 Axes>"
      ]
     },
     "metadata": {
      "needs_background": "light"
     },
     "output_type": "display_data"
    }
   ],
   "source": [
    "# plotting residuals on total insurance value\n",
    "\n",
    "residuals = (y_pred - y_test)\n",
    "\n",
    "_ = sns.scatterplot(x=np.array(X_test)[:,8], y=np.squeeze(residuals))\n",
    "_ = plt.xlim(-5000000, 20000000)\n",
    "_ = plt.ylim(-2000000, 1000000)\n",
    "_ = plt.ylabel('Residuals (pred-test)')\n",
    "_ = plt.xlabel('Total Building Insurance Coverage')\n",
    "plt.show()"
   ]
  },
  {
   "cell_type": "markdown",
   "metadata": {},
   "source": [
    "totalcontentscoverage: seems to show 2 different slopes, a very slightly negative slope when total contents coverage is less than 180,000 and slightly positive slope at larger values. Consider for feature engineering."
   ]
  },
  {
   "cell_type": "code",
   "execution_count": 14,
   "metadata": {},
   "outputs": [
    {
     "data": {
      "image/png": "[encoded data removed]",
      "text/plain": [
       "<Figure size 432x288 with 1 Axes>"
      ]
     },
     "metadata": {
      "needs_background": "light"
     },
     "output_type": "display_data"
    }
   ],
   "source": [
    "# plotting residuals on total contents coverage\n",
    "\n",
    "residuals = (y_pred - y_test)\n",
    "\n",
    "_ = sns.scatterplot(x=np.array(X_test)[:,9], y=np.squeeze(residuals))\n",
    "_ = plt.xlim(-200000, 1000000)\n",
    "_ = plt.ylim(-2000000, 2000000)\n",
    "_ = plt.ylabel('Residuals (pred-test)')\n",
    "_ = plt.xlabel('Total Contents Coverage')\n",
    "plt.show()"
   ]
  },
  {
   "cell_type": "markdown",
   "metadata": {},
   "source": [
    "### Additional Feature Engineering"
   ]
  },
  {
   "cell_type": "markdown",
   "metadata": {},
   "source": [
    "Based on the initial linear regression model and the residual plots, there may be some additional features which will help the model to better describe the dataset. Add new features and then iterate on the linear regression with those additional features."
   ]
  },
  {
   "cell_type": "code",
   "execution_count": 15,
   "metadata": {},
   "outputs": [],
   "source": [
    "# elevation difference, add binary feature if elevation difference is near 0 or 1000\n",
    "def ED_f(df):\n",
    "    if df['elevationdifference'] == 0:\n",
    "        val = 1\n",
    "    elif df['elevationdifference'] == 1000:\n",
    "        val = 1\n",
    "    else:\n",
    "        val = 0\n",
    "    return val\n",
    "\n",
    "df['elevdiff_binary'] = df.apply(ED_f, axis=1)"
   ]
  },
  {
   "cell_type": "code",
   "execution_count": 16,
   "metadata": {},
   "outputs": [],
   "source": [
    "# base flood elevation, add binary feature if BFE is 0\n",
    "def BFE_f(df):\n",
    "    if df['basefloodelevation'] < 125 and df['basefloodelevation'] > -25:\n",
    "        val = 1\n",
    "    else:\n",
    "        val = 0\n",
    "    return val\n",
    "\n",
    "df['bfe_binary'] = df.apply(BFE_f, axis=1)"
   ]
  },
  {
   "cell_type": "code",
   "execution_count": 17,
   "metadata": {},
   "outputs": [],
   "source": [
    "# totalcontentscoverage, add binary feature if less than/greater than 18000\n",
    "def TCC_f(df):\n",
    "    if df['totalcontentsinsurancecoverage'] < 180000:\n",
    "        val = 1\n",
    "    else:\n",
    "        val = 0\n",
    "    return val\n",
    "\n",
    "df['TCC_binary'] = df.apply(TCC_f, axis=1)"
   ]
  },
  {
   "cell_type": "markdown",
   "metadata": {},
   "source": [
    "Using new df, reseparate X and y variables and split into train and test set, then apply robust scaler."
   ]
  },
  {
   "cell_type": "code",
   "execution_count": 18,
   "metadata": {},
   "outputs": [],
   "source": [
    "# separate into X and y\n",
    "X = df.drop(columns=['amountpaidonbuildingclaim', 'amountpaidonbuildingclaim_NaN'])\n",
    "y = df[['amountpaidonbuildingclaim']]\n",
    "\n",
    "# split into train and test set\n",
    "X_train, X_test, y_train, y_test = train_test_split(X, y, random_state=123)\n",
    "\n",
    "# intiate scaler, fit and transform\n",
    "scaler = RobustScaler()\n",
    "scaler.fit(X_train)\n",
    "\n",
    "X_train_scaled = scaler.transform(X_train)\n",
    "X_test_scaled = scaler.transform(X_test)"
   ]
  },
  {
   "cell_type": "markdown",
   "metadata": {},
   "source": [
    "Refit a new linear regression model with the improved dataset and evaluate any difference in performance."
   ]
  },
  {
   "cell_type": "code",
   "execution_count": 19,
   "metadata": {},
   "outputs": [],
   "source": [
    "# fit regressor to train data\n",
    "LR2 = LinearRegression()\n",
    "LR2.fit(X_train_scaled, y_train)\n",
    "\n",
    "# predict on test set\n",
    "y_pred = LR2.predict(X_test_scaled)"
   ]
  },
  {
   "cell_type": "code",
   "execution_count": 20,
   "metadata": {},
   "outputs": [
    {
     "data": {
      "text/html": [
       "<div>\n",
       "<style scoped>\n",
       "    .dataframe tbody tr th:only-of-type {\n",
       "        vertical-align: middle;\n",
       "    }\n",
       "\n",
       "    .dataframe tbody tr th {\n",
       "        vertical-align: top;\n",
       "    }\n",
       "\n",
       "    .dataframe thead th {\n",
       "        text-align: right;\n",
       "    }\n",
       "</style>\n",
       "<table border=\"1\" class=\"dataframe\">\n",
       "  <thead>\n",
       "    <tr style=\"text-align: right;\">\n",
       "      <th></th>\n",
       "      <th>metrics</th>\n",
       "      <th>LR</th>\n",
       "      <th>LR2</th>\n",
       "    </tr>\n",
       "  </thead>\n",
       "  <tbody>\n",
       "    <tr>\n",
       "      <th>0</th>\n",
       "      <td>MSE</td>\n",
       "      <td>2.224825e+09</td>\n",
       "      <td>2.202314e+09</td>\n",
       "    </tr>\n",
       "    <tr>\n",
       "      <th>1</th>\n",
       "      <td>MAE</td>\n",
       "      <td>1.933552e+04</td>\n",
       "      <td>1.935954e+04</td>\n",
       "    </tr>\n",
       "    <tr>\n",
       "      <th>2</th>\n",
       "      <td>R2</td>\n",
       "      <td>2.023229e-01</td>\n",
       "      <td>2.103938e-01</td>\n",
       "    </tr>\n",
       "  </tbody>\n",
       "</table>\n",
       "</div>"
      ],
      "text/plain": [
       "  metrics            LR           LR2\n",
       "0     MSE  2.224825e+09  2.202314e+09\n",
       "1     MAE  1.933552e+04  1.935954e+04\n",
       "2      R2  2.023229e-01  2.103938e-01"
      ]
     },
     "execution_count": 20,
     "metadata": {},
     "output_type": "execute_result"
    }
   ],
   "source": [
    "# add metrics for second linear regression model\n",
    "metrics['LR2'] = [mean_squared_error(y_test, y_pred), mean_absolute_error(y_test, y_pred), r2_score(y_test, y_pred)]\n",
    "metrics"
   ]
  },
  {
   "cell_type": "markdown",
   "metadata": {},
   "source": [
    "Some improvement noticed, R2 value went up and MSE decreased slightly, MAE increased slightly."
   ]
  },
  {
   "cell_type": "markdown",
   "metadata": {},
   "source": [
    "### Second model fitting: Ridge Regression"
   ]
  },
  {
   "cell_type": "markdown",
   "metadata": {},
   "source": [
    "The initial Linear Regression model improved slightly with the new feature engineering, but still did not show great predictive power. Attempt to fit a Ridge Regression to see if metrics continue to improve. Try with several values of alpha for some preliminary hyperparameter tuning."
   ]
  },
  {
   "cell_type": "code",
   "execution_count": 21,
   "metadata": {},
   "outputs": [],
   "source": [
    "from sklearn.linear_model import Ridge\n",
    "\n",
    "# first ridge regression model with alpha = 0.1\n",
    "RG_1 = Ridge(alpha=0.1)\n",
    "RG_1.fit(X_train_scaled, y_train)\n",
    "\n",
    "# predict on test set\n",
    "y_pred = RG_1.predict(X_test_scaled)"
   ]
  },
  {
   "cell_type": "code",
   "execution_count": 22,
   "metadata": {},
   "outputs": [
    {
     "data": {
      "text/html": [
       "<div>\n",
       "<style scoped>\n",
       "    .dataframe tbody tr th:only-of-type {\n",
       "        vertical-align: middle;\n",
       "    }\n",
       "\n",
       "    .dataframe tbody tr th {\n",
       "        vertical-align: top;\n",
       "    }\n",
       "\n",
       "    .dataframe thead th {\n",
       "        text-align: right;\n",
       "    }\n",
       "</style>\n",
       "<table border=\"1\" class=\"dataframe\">\n",
       "  <thead>\n",
       "    <tr style=\"text-align: right;\">\n",
       "      <th></th>\n",
       "      <th>metrics</th>\n",
       "      <th>LR</th>\n",
       "      <th>LR2</th>\n",
       "      <th>RG1</th>\n",
       "    </tr>\n",
       "  </thead>\n",
       "  <tbody>\n",
       "    <tr>\n",
       "      <th>0</th>\n",
       "      <td>MSE</td>\n",
       "      <td>2.224825e+09</td>\n",
       "      <td>2.202314e+09</td>\n",
       "      <td>2.202313e+09</td>\n",
       "    </tr>\n",
       "    <tr>\n",
       "      <th>1</th>\n",
       "      <td>MAE</td>\n",
       "      <td>1.933552e+04</td>\n",
       "      <td>1.935954e+04</td>\n",
       "      <td>1.935952e+04</td>\n",
       "    </tr>\n",
       "    <tr>\n",
       "      <th>2</th>\n",
       "      <td>R2</td>\n",
       "      <td>2.023229e-01</td>\n",
       "      <td>2.103938e-01</td>\n",
       "      <td>2.103939e-01</td>\n",
       "    </tr>\n",
       "  </tbody>\n",
       "</table>\n",
       "</div>"
      ],
      "text/plain": [
       "  metrics            LR           LR2           RG1\n",
       "0     MSE  2.224825e+09  2.202314e+09  2.202313e+09\n",
       "1     MAE  1.933552e+04  1.935954e+04  1.935952e+04\n",
       "2      R2  2.023229e-01  2.103938e-01  2.103939e-01"
      ]
     },
     "execution_count": 22,
     "metadata": {},
     "output_type": "execute_result"
    }
   ],
   "source": [
    "# add metrics for first ridge regression model\n",
    "metrics['RG1'] = [mean_squared_error(y_test, y_pred), mean_absolute_error(y_test, y_pred), r2_score(y_test, y_pred)]\n",
    "metrics"
   ]
  },
  {
   "cell_type": "code",
   "execution_count": 23,
   "metadata": {},
   "outputs": [
    {
     "data": {
      "text/html": [
       "<div>\n",
       "<style scoped>\n",
       "    .dataframe tbody tr th:only-of-type {\n",
       "        vertical-align: middle;\n",
       "    }\n",
       "\n",
       "    .dataframe tbody tr th {\n",
       "        vertical-align: top;\n",
       "    }\n",
       "\n",
       "    .dataframe thead th {\n",
       "        text-align: right;\n",
       "    }\n",
       "</style>\n",
       "<table border=\"1\" class=\"dataframe\">\n",
       "  <thead>\n",
       "    <tr style=\"text-align: right;\">\n",
       "      <th></th>\n",
       "      <th>metrics</th>\n",
       "      <th>LR</th>\n",
       "      <th>LR2</th>\n",
       "      <th>RG1</th>\n",
       "      <th>RG2</th>\n",
       "    </tr>\n",
       "  </thead>\n",
       "  <tbody>\n",
       "    <tr>\n",
       "      <th>0</th>\n",
       "      <td>MSE</td>\n",
       "      <td>2.224825e+09</td>\n",
       "      <td>2.202314e+09</td>\n",
       "      <td>2.202313e+09</td>\n",
       "      <td>2.202310e+09</td>\n",
       "    </tr>\n",
       "    <tr>\n",
       "      <th>1</th>\n",
       "      <td>MAE</td>\n",
       "      <td>1.933552e+04</td>\n",
       "      <td>1.935954e+04</td>\n",
       "      <td>1.935952e+04</td>\n",
       "      <td>1.935936e+04</td>\n",
       "    </tr>\n",
       "    <tr>\n",
       "      <th>2</th>\n",
       "      <td>R2</td>\n",
       "      <td>2.023229e-01</td>\n",
       "      <td>2.103938e-01</td>\n",
       "      <td>2.103939e-01</td>\n",
       "      <td>2.103953e-01</td>\n",
       "    </tr>\n",
       "  </tbody>\n",
       "</table>\n",
       "</div>"
      ],
      "text/plain": [
       "  metrics            LR           LR2           RG1           RG2\n",
       "0     MSE  2.224825e+09  2.202314e+09  2.202313e+09  2.202310e+09\n",
       "1     MAE  1.933552e+04  1.935954e+04  1.935952e+04  1.935936e+04\n",
       "2      R2  2.023229e-01  2.103938e-01  2.103939e-01  2.103953e-01"
      ]
     },
     "execution_count": 23,
     "metadata": {},
     "output_type": "execute_result"
    }
   ],
   "source": [
    "# second ridge regression model with alpha = 1.0\n",
    "RG_2 = Ridge(alpha=1.0)\n",
    "RG_2.fit(X_train_scaled, y_train)\n",
    "\n",
    "# predict on test set\n",
    "y_pred = RG_2.predict(X_test_scaled)\n",
    "\n",
    "# add metrics for second ridge regression model\n",
    "metrics['RG2'] = [mean_squared_error(y_test, y_pred), mean_absolute_error(y_test, y_pred), r2_score(y_test, y_pred)]\n",
    "metrics"
   ]
  },
  {
   "cell_type": "code",
   "execution_count": 24,
   "metadata": {},
   "outputs": [
    {
     "data": {
      "text/html": [
       "<div>\n",
       "<style scoped>\n",
       "    .dataframe tbody tr th:only-of-type {\n",
       "        vertical-align: middle;\n",
       "    }\n",
       "\n",
       "    .dataframe tbody tr th {\n",
       "        vertical-align: top;\n",
       "    }\n",
       "\n",
       "    .dataframe thead th {\n",
       "        text-align: right;\n",
       "    }\n",
       "</style>\n",
       "<table border=\"1\" class=\"dataframe\">\n",
       "  <thead>\n",
       "    <tr style=\"text-align: right;\">\n",
       "      <th></th>\n",
       "      <th>metrics</th>\n",
       "      <th>LR</th>\n",
       "      <th>LR2</th>\n",
       "      <th>RG1</th>\n",
       "      <th>RG2</th>\n",
       "      <th>RG3</th>\n",
       "    </tr>\n",
       "  </thead>\n",
       "  <tbody>\n",
       "    <tr>\n",
       "      <th>0</th>\n",
       "      <td>MSE</td>\n",
       "      <td>2.224825e+09</td>\n",
       "      <td>2.202314e+09</td>\n",
       "      <td>2.202313e+09</td>\n",
       "      <td>2.202310e+09</td>\n",
       "      <td>2.202116e+09</td>\n",
       "    </tr>\n",
       "    <tr>\n",
       "      <th>1</th>\n",
       "      <td>MAE</td>\n",
       "      <td>1.933552e+04</td>\n",
       "      <td>1.935954e+04</td>\n",
       "      <td>1.935952e+04</td>\n",
       "      <td>1.935936e+04</td>\n",
       "      <td>1.935843e+04</td>\n",
       "    </tr>\n",
       "    <tr>\n",
       "      <th>2</th>\n",
       "      <td>R2</td>\n",
       "      <td>2.023229e-01</td>\n",
       "      <td>2.103938e-01</td>\n",
       "      <td>2.103939e-01</td>\n",
       "      <td>2.103953e-01</td>\n",
       "      <td>2.104648e-01</td>\n",
       "    </tr>\n",
       "  </tbody>\n",
       "</table>\n",
       "</div>"
      ],
      "text/plain": [
       "  metrics            LR           LR2           RG1           RG2  \\\n",
       "0     MSE  2.224825e+09  2.202314e+09  2.202313e+09  2.202310e+09   \n",
       "1     MAE  1.933552e+04  1.935954e+04  1.935952e+04  1.935936e+04   \n",
       "2      R2  2.023229e-01  2.103938e-01  2.103939e-01  2.103953e-01   \n",
       "\n",
       "            RG3  \n",
       "0  2.202116e+09  \n",
       "1  1.935843e+04  \n",
       "2  2.104648e-01  "
      ]
     },
     "execution_count": 24,
     "metadata": {},
     "output_type": "execute_result"
    }
   ],
   "source": [
    "# third ridge regression model with alpha = 10.0\n",
    "RG_3 = Ridge(alpha=10.0)\n",
    "RG_3.fit(X_train_scaled, y_train)\n",
    "\n",
    "# predict on test set\n",
    "y_pred = RG_3.predict(X_test_scaled)\n",
    "\n",
    "# add metrics for third ridge regression model\n",
    "metrics['RG3'] = [mean_squared_error(y_test, y_pred), mean_absolute_error(y_test, y_pred), r2_score(y_test, y_pred)]\n",
    "metrics"
   ]
  },
  {
   "cell_type": "markdown",
   "metadata": {},
   "source": [
    "The ridge model with alpha = 10.0 seemed to perform the best out of all three ridge models and slightly better than the linear regression models. However, these improvements are relatively minor. "
   ]
  },
  {
   "cell_type": "markdown",
   "metadata": {},
   "source": [
    "### Third model fitting: Decision Tree Regressor"
   ]
  },
  {
   "cell_type": "markdown",
   "metadata": {},
   "source": [
    "Decision tree may perform better than linear and ridge regressions. Attempt a decision tree with various max_depth values."
   ]
  },
  {
   "cell_type": "code",
   "execution_count": 25,
   "metadata": {},
   "outputs": [
    {
     "data": {
      "text/html": [
       "<div>\n",
       "<style scoped>\n",
       "    .dataframe tbody tr th:only-of-type {\n",
       "        vertical-align: middle;\n",
       "    }\n",
       "\n",
       "    .dataframe tbody tr th {\n",
       "        vertical-align: top;\n",
       "    }\n",
       "\n",
       "    .dataframe thead th {\n",
       "        text-align: right;\n",
       "    }\n",
       "</style>\n",
       "<table border=\"1\" class=\"dataframe\">\n",
       "  <thead>\n",
       "    <tr style=\"text-align: right;\">\n",
       "      <th></th>\n",
       "      <th>metrics</th>\n",
       "      <th>LR</th>\n",
       "      <th>LR2</th>\n",
       "      <th>RG1</th>\n",
       "      <th>RG2</th>\n",
       "      <th>RG3</th>\n",
       "      <th>DT1</th>\n",
       "    </tr>\n",
       "  </thead>\n",
       "  <tbody>\n",
       "    <tr>\n",
       "      <th>0</th>\n",
       "      <td>MSE</td>\n",
       "      <td>2.224825e+09</td>\n",
       "      <td>2.202314e+09</td>\n",
       "      <td>2.202313e+09</td>\n",
       "      <td>2.202310e+09</td>\n",
       "      <td>2.202116e+09</td>\n",
       "      <td>1.756950e+09</td>\n",
       "    </tr>\n",
       "    <tr>\n",
       "      <th>1</th>\n",
       "      <td>MAE</td>\n",
       "      <td>1.933552e+04</td>\n",
       "      <td>1.935954e+04</td>\n",
       "      <td>1.935952e+04</td>\n",
       "      <td>1.935936e+04</td>\n",
       "      <td>1.935843e+04</td>\n",
       "      <td>1.422670e+04</td>\n",
       "    </tr>\n",
       "    <tr>\n",
       "      <th>2</th>\n",
       "      <td>R2</td>\n",
       "      <td>2.023229e-01</td>\n",
       "      <td>2.103938e-01</td>\n",
       "      <td>2.103939e-01</td>\n",
       "      <td>2.103953e-01</td>\n",
       "      <td>2.104648e-01</td>\n",
       "      <td>3.700724e-01</td>\n",
       "    </tr>\n",
       "  </tbody>\n",
       "</table>\n",
       "</div>"
      ],
      "text/plain": [
       "  metrics            LR           LR2           RG1           RG2  \\\n",
       "0     MSE  2.224825e+09  2.202314e+09  2.202313e+09  2.202310e+09   \n",
       "1     MAE  1.933552e+04  1.935954e+04  1.935952e+04  1.935936e+04   \n",
       "2      R2  2.023229e-01  2.103938e-01  2.103939e-01  2.103953e-01   \n",
       "\n",
       "            RG3           DT1  \n",
       "0  2.202116e+09  1.756950e+09  \n",
       "1  1.935843e+04  1.422670e+04  \n",
       "2  2.104648e-01  3.700724e-01  "
      ]
     },
     "execution_count": 25,
     "metadata": {},
     "output_type": "execute_result"
    }
   ],
   "source": [
    "from sklearn.tree import DecisionTreeRegressor\n",
    "\n",
    "# try decision tree with defaults, no max_depth\n",
    "DT1 = DecisionTreeRegressor()\n",
    "DT1.fit(X_train_scaled, y_train)\n",
    "\n",
    "# predict on test set\n",
    "y_pred = DT1.predict(X_test_scaled)\n",
    "\n",
    "# add metrics for first decision tree\n",
    "metrics['DT1'] = [mean_squared_error(y_test, y_pred), mean_absolute_error(y_test, y_pred), r2_score(y_test, y_pred)]\n",
    "metrics"
   ]
  },
  {
   "cell_type": "code",
   "execution_count": 26,
   "metadata": {},
   "outputs": [
    {
     "data": {
      "text/plain": [
       "80"
      ]
     },
     "execution_count": 26,
     "metadata": {},
     "output_type": "execute_result"
    }
   ],
   "source": [
    "# get depth for the initial decision tree for comparison\n",
    "DT1.get_depth()"
   ]
  },
  {
   "cell_type": "code",
   "execution_count": 27,
   "metadata": {},
   "outputs": [
    {
     "data": {
      "text/html": [
       "<div>\n",
       "<style scoped>\n",
       "    .dataframe tbody tr th:only-of-type {\n",
       "        vertical-align: middle;\n",
       "    }\n",
       "\n",
       "    .dataframe tbody tr th {\n",
       "        vertical-align: top;\n",
       "    }\n",
       "\n",
       "    .dataframe thead th {\n",
       "        text-align: right;\n",
       "    }\n",
       "</style>\n",
       "<table border=\"1\" class=\"dataframe\">\n",
       "  <thead>\n",
       "    <tr style=\"text-align: right;\">\n",
       "      <th></th>\n",
       "      <th>metrics</th>\n",
       "      <th>LR</th>\n",
       "      <th>LR2</th>\n",
       "      <th>RG1</th>\n",
       "      <th>RG2</th>\n",
       "      <th>RG3</th>\n",
       "      <th>DT1</th>\n",
       "      <th>DT2</th>\n",
       "    </tr>\n",
       "  </thead>\n",
       "  <tbody>\n",
       "    <tr>\n",
       "      <th>0</th>\n",
       "      <td>MSE</td>\n",
       "      <td>2.224825e+09</td>\n",
       "      <td>2.202314e+09</td>\n",
       "      <td>2.202313e+09</td>\n",
       "      <td>2.202310e+09</td>\n",
       "      <td>2.202116e+09</td>\n",
       "      <td>1.756950e+09</td>\n",
       "      <td>1.278619e+09</td>\n",
       "    </tr>\n",
       "    <tr>\n",
       "      <th>1</th>\n",
       "      <td>MAE</td>\n",
       "      <td>1.933552e+04</td>\n",
       "      <td>1.935954e+04</td>\n",
       "      <td>1.935952e+04</td>\n",
       "      <td>1.935936e+04</td>\n",
       "      <td>1.935843e+04</td>\n",
       "      <td>1.422670e+04</td>\n",
       "      <td>1.187373e+04</td>\n",
       "    </tr>\n",
       "    <tr>\n",
       "      <th>2</th>\n",
       "      <td>R2</td>\n",
       "      <td>2.023229e-01</td>\n",
       "      <td>2.103938e-01</td>\n",
       "      <td>2.103939e-01</td>\n",
       "      <td>2.103953e-01</td>\n",
       "      <td>2.104648e-01</td>\n",
       "      <td>3.700724e-01</td>\n",
       "      <td>5.415707e-01</td>\n",
       "    </tr>\n",
       "  </tbody>\n",
       "</table>\n",
       "</div>"
      ],
      "text/plain": [
       "  metrics            LR           LR2           RG1           RG2  \\\n",
       "0     MSE  2.224825e+09  2.202314e+09  2.202313e+09  2.202310e+09   \n",
       "1     MAE  1.933552e+04  1.935954e+04  1.935952e+04  1.935936e+04   \n",
       "2      R2  2.023229e-01  2.103938e-01  2.103939e-01  2.103953e-01   \n",
       "\n",
       "            RG3           DT1           DT2  \n",
       "0  2.202116e+09  1.756950e+09  1.278619e+09  \n",
       "1  1.935843e+04  1.422670e+04  1.187373e+04  \n",
       "2  2.104648e-01  3.700724e-01  5.415707e-01  "
      ]
     },
     "execution_count": 27,
     "metadata": {},
     "output_type": "execute_result"
    }
   ],
   "source": [
    "# try decision tree with max_depth = 20\n",
    "DT2 = DecisionTreeRegressor(max_depth=20)\n",
    "DT2.fit(X_train_scaled, y_train)\n",
    "\n",
    "# predict on test set\n",
    "y_pred = DT2.predict(X_test_scaled)\n",
    "\n",
    "# add metrics for second decision tree\n",
    "metrics['DT2'] = [mean_squared_error(y_test, y_pred), mean_absolute_error(y_test, y_pred), r2_score(y_test, y_pred)]\n",
    "metrics"
   ]
  },
  {
   "cell_type": "markdown",
   "metadata": {},
   "source": [
    "The initial decision tree without a max depth limit grew to a depth of 80. Trying a decision tree with a max depth of 20 improved significantly on both MSE and R2 metrics. Attempt with an even smaller max depth."
   ]
  },
  {
   "cell_type": "code",
   "execution_count": 28,
   "metadata": {},
   "outputs": [
    {
     "data": {
      "text/html": [
       "<div>\n",
       "<style scoped>\n",
       "    .dataframe tbody tr th:only-of-type {\n",
       "        vertical-align: middle;\n",
       "    }\n",
       "\n",
       "    .dataframe tbody tr th {\n",
       "        vertical-align: top;\n",
       "    }\n",
       "\n",
       "    .dataframe thead th {\n",
       "        text-align: right;\n",
       "    }\n",
       "</style>\n",
       "<table border=\"1\" class=\"dataframe\">\n",
       "  <thead>\n",
       "    <tr style=\"text-align: right;\">\n",
       "      <th></th>\n",
       "      <th>metrics</th>\n",
       "      <th>LR</th>\n",
       "      <th>LR2</th>\n",
       "      <th>RG1</th>\n",
       "      <th>RG2</th>\n",
       "      <th>RG3</th>\n",
       "      <th>DT1</th>\n",
       "      <th>DT2</th>\n",
       "      <th>DT3</th>\n",
       "    </tr>\n",
       "  </thead>\n",
       "  <tbody>\n",
       "    <tr>\n",
       "      <th>0</th>\n",
       "      <td>MSE</td>\n",
       "      <td>2.224825e+09</td>\n",
       "      <td>2.202314e+09</td>\n",
       "      <td>2.202313e+09</td>\n",
       "      <td>2.202310e+09</td>\n",
       "      <td>2.202116e+09</td>\n",
       "      <td>1.756950e+09</td>\n",
       "      <td>1.278619e+09</td>\n",
       "      <td>1.629411e+09</td>\n",
       "    </tr>\n",
       "    <tr>\n",
       "      <th>1</th>\n",
       "      <td>MAE</td>\n",
       "      <td>1.933552e+04</td>\n",
       "      <td>1.935954e+04</td>\n",
       "      <td>1.935952e+04</td>\n",
       "      <td>1.935936e+04</td>\n",
       "      <td>1.935843e+04</td>\n",
       "      <td>1.422670e+04</td>\n",
       "      <td>1.187373e+04</td>\n",
       "      <td>1.583683e+04</td>\n",
       "    </tr>\n",
       "    <tr>\n",
       "      <th>2</th>\n",
       "      <td>R2</td>\n",
       "      <td>2.023229e-01</td>\n",
       "      <td>2.103938e-01</td>\n",
       "      <td>2.103939e-01</td>\n",
       "      <td>2.103953e-01</td>\n",
       "      <td>2.104648e-01</td>\n",
       "      <td>3.700724e-01</td>\n",
       "      <td>5.415707e-01</td>\n",
       "      <td>4.157995e-01</td>\n",
       "    </tr>\n",
       "  </tbody>\n",
       "</table>\n",
       "</div>"
      ],
      "text/plain": [
       "  metrics            LR           LR2           RG1           RG2  \\\n",
       "0     MSE  2.224825e+09  2.202314e+09  2.202313e+09  2.202310e+09   \n",
       "1     MAE  1.933552e+04  1.935954e+04  1.935952e+04  1.935936e+04   \n",
       "2      R2  2.023229e-01  2.103938e-01  2.103939e-01  2.103953e-01   \n",
       "\n",
       "            RG3           DT1           DT2           DT3  \n",
       "0  2.202116e+09  1.756950e+09  1.278619e+09  1.629411e+09  \n",
       "1  1.935843e+04  1.422670e+04  1.187373e+04  1.583683e+04  \n",
       "2  2.104648e-01  3.700724e-01  5.415707e-01  4.157995e-01  "
      ]
     },
     "execution_count": 28,
     "metadata": {},
     "output_type": "execute_result"
    }
   ],
   "source": [
    "# try decision tree with max_depth = 5\n",
    "DT3 = DecisionTreeRegressor(max_depth=5)\n",
    "DT3.fit(X_train_scaled, y_train)\n",
    "\n",
    "# predict on test set\n",
    "y_pred = DT3.predict(X_test_scaled)\n",
    "\n",
    "# add metrics for third decision tree\n",
    "metrics['DT3'] = [mean_squared_error(y_test, y_pred), mean_absolute_error(y_test, y_pred), r2_score(y_test, y_pred)]\n",
    "metrics"
   ]
  },
  {
   "cell_type": "markdown",
   "metadata": {},
   "source": [
    "A max depth of 5 had slightly worse performance. Consider further hyperparameter tuning around max depth of 20."
   ]
  },
  {
   "cell_type": "markdown",
   "metadata": {},
   "source": [
    "### Fourth model fitting: Random Forest Regressor"
   ]
  },
  {
   "cell_type": "markdown",
   "metadata": {},
   "source": [
    "Decision tree regressor appears to perform better than linear or ridge regression. Explore an ensemble method like random forest before deciding which model to move forward with."
   ]
  },
  {
   "cell_type": "code",
   "execution_count": 29,
   "metadata": {},
   "outputs": [
    {
     "name": "stderr",
     "output_type": "stream",
     "text": [
      "/opt/anaconda3/lib/python3.7/site-packages/sklearn/ensemble/forest.py:245: FutureWarning: The default value of n_estimators will change from 10 in version 0.20 to 100 in 0.22.\n",
      "  \"10 in version 0.20 to 100 in 0.22.\", FutureWarning)\n"
     ]
    },
    {
     "data": {
      "text/html": [
       "<div>\n",
       "<style scoped>\n",
       "    .dataframe tbody tr th:only-of-type {\n",
       "        vertical-align: middle;\n",
       "    }\n",
       "\n",
       "    .dataframe tbody tr th {\n",
       "        vertical-align: top;\n",
       "    }\n",
       "\n",
       "    .dataframe thead th {\n",
       "        text-align: right;\n",
       "    }\n",
       "</style>\n",
       "<table border=\"1\" class=\"dataframe\">\n",
       "  <thead>\n",
       "    <tr style=\"text-align: right;\">\n",
       "      <th></th>\n",
       "      <th>metrics</th>\n",
       "      <th>LR</th>\n",
       "      <th>LR2</th>\n",
       "      <th>RG1</th>\n",
       "      <th>RG2</th>\n",
       "      <th>RG3</th>\n",
       "      <th>DT1</th>\n",
       "      <th>DT2</th>\n",
       "      <th>DT3</th>\n",
       "      <th>RF1</th>\n",
       "    </tr>\n",
       "  </thead>\n",
       "  <tbody>\n",
       "    <tr>\n",
       "      <th>0</th>\n",
       "      <td>MSE</td>\n",
       "      <td>2.224825e+09</td>\n",
       "      <td>2.202314e+09</td>\n",
       "      <td>2.202313e+09</td>\n",
       "      <td>2.202310e+09</td>\n",
       "      <td>2.202116e+09</td>\n",
       "      <td>1.756950e+09</td>\n",
       "      <td>1.278619e+09</td>\n",
       "      <td>1.629411e+09</td>\n",
       "      <td>1.088157e+09</td>\n",
       "    </tr>\n",
       "    <tr>\n",
       "      <th>1</th>\n",
       "      <td>MAE</td>\n",
       "      <td>1.933552e+04</td>\n",
       "      <td>1.935954e+04</td>\n",
       "      <td>1.935952e+04</td>\n",
       "      <td>1.935936e+04</td>\n",
       "      <td>1.935843e+04</td>\n",
       "      <td>1.422670e+04</td>\n",
       "      <td>1.187373e+04</td>\n",
       "      <td>1.583683e+04</td>\n",
       "      <td>1.123619e+04</td>\n",
       "    </tr>\n",
       "    <tr>\n",
       "      <th>2</th>\n",
       "      <td>R2</td>\n",
       "      <td>2.023229e-01</td>\n",
       "      <td>2.103938e-01</td>\n",
       "      <td>2.103939e-01</td>\n",
       "      <td>2.103953e-01</td>\n",
       "      <td>2.104648e-01</td>\n",
       "      <td>3.700724e-01</td>\n",
       "      <td>5.415707e-01</td>\n",
       "      <td>4.157995e-01</td>\n",
       "      <td>6.098577e-01</td>\n",
       "    </tr>\n",
       "  </tbody>\n",
       "</table>\n",
       "</div>"
      ],
      "text/plain": [
       "  metrics            LR           LR2           RG1           RG2  \\\n",
       "0     MSE  2.224825e+09  2.202314e+09  2.202313e+09  2.202310e+09   \n",
       "1     MAE  1.933552e+04  1.935954e+04  1.935952e+04  1.935936e+04   \n",
       "2      R2  2.023229e-01  2.103938e-01  2.103939e-01  2.103953e-01   \n",
       "\n",
       "            RG3           DT1           DT2           DT3           RF1  \n",
       "0  2.202116e+09  1.756950e+09  1.278619e+09  1.629411e+09  1.088157e+09  \n",
       "1  1.935843e+04  1.422670e+04  1.187373e+04  1.583683e+04  1.123619e+04  \n",
       "2  2.104648e-01  3.700724e-01  5.415707e-01  4.157995e-01  6.098577e-01  "
      ]
     },
     "execution_count": 29,
     "metadata": {},
     "output_type": "execute_result"
    }
   ],
   "source": [
    "from sklearn.ensemble import RandomForestRegressor\n",
    "\n",
    "# try random forest using max_depth=20\n",
    "RF1 = RandomForestRegressor(max_depth=20)\n",
    "RF1.fit(X_train_scaled, np.squeeze(y_train))\n",
    "\n",
    "# predict on test set\n",
    "y_pred = RF1.predict(X_test_scaled)\n",
    "\n",
    "# add metrics for first random forest\n",
    "metrics['RF1'] = [mean_squared_error(y_test, y_pred), mean_absolute_error(y_test, y_pred), r2_score(y_test, y_pred)]\n",
    "metrics"
   ]
  },
  {
   "cell_type": "markdown",
   "metadata": {},
   "source": [
    "The random forest regressor performed better than the single decision tree using the same max depth. Attempt hyperparameter tuning on the random forest model to try improving on this model even further. Using a one-by-one approach rather than grid/random searchCV."
   ]
  },
  {
   "cell_type": "code",
   "execution_count": 31,
   "metadata": {},
   "outputs": [
    {
     "data": {
      "text/html": [
       "<div>\n",
       "<style scoped>\n",
       "    .dataframe tbody tr th:only-of-type {\n",
       "        vertical-align: middle;\n",
       "    }\n",
       "\n",
       "    .dataframe tbody tr th {\n",
       "        vertical-align: top;\n",
       "    }\n",
       "\n",
       "    .dataframe thead th {\n",
       "        text-align: right;\n",
       "    }\n",
       "</style>\n",
       "<table border=\"1\" class=\"dataframe\">\n",
       "  <thead>\n",
       "    <tr style=\"text-align: right;\">\n",
       "      <th></th>\n",
       "      <th>metrics</th>\n",
       "      <th>LR</th>\n",
       "      <th>LR2</th>\n",
       "      <th>RG1</th>\n",
       "      <th>RG2</th>\n",
       "      <th>RG3</th>\n",
       "      <th>DT1</th>\n",
       "      <th>DT2</th>\n",
       "      <th>DT3</th>\n",
       "      <th>RF1</th>\n",
       "      <th>RF2</th>\n",
       "    </tr>\n",
       "  </thead>\n",
       "  <tbody>\n",
       "    <tr>\n",
       "      <th>0</th>\n",
       "      <td>MSE</td>\n",
       "      <td>2.224825e+09</td>\n",
       "      <td>2.202314e+09</td>\n",
       "      <td>2.202313e+09</td>\n",
       "      <td>2.202310e+09</td>\n",
       "      <td>2.202116e+09</td>\n",
       "      <td>1.756950e+09</td>\n",
       "      <td>1.278619e+09</td>\n",
       "      <td>1.629411e+09</td>\n",
       "      <td>1.088157e+09</td>\n",
       "      <td>1.053770e+09</td>\n",
       "    </tr>\n",
       "    <tr>\n",
       "      <th>1</th>\n",
       "      <td>MAE</td>\n",
       "      <td>1.933552e+04</td>\n",
       "      <td>1.935954e+04</td>\n",
       "      <td>1.935952e+04</td>\n",
       "      <td>1.935936e+04</td>\n",
       "      <td>1.935843e+04</td>\n",
       "      <td>1.422670e+04</td>\n",
       "      <td>1.187373e+04</td>\n",
       "      <td>1.583683e+04</td>\n",
       "      <td>1.123619e+04</td>\n",
       "      <td>1.112336e+04</td>\n",
       "    </tr>\n",
       "    <tr>\n",
       "      <th>2</th>\n",
       "      <td>R2</td>\n",
       "      <td>2.023229e-01</td>\n",
       "      <td>2.103938e-01</td>\n",
       "      <td>2.103939e-01</td>\n",
       "      <td>2.103953e-01</td>\n",
       "      <td>2.104648e-01</td>\n",
       "      <td>3.700724e-01</td>\n",
       "      <td>5.415707e-01</td>\n",
       "      <td>4.157995e-01</td>\n",
       "      <td>6.098577e-01</td>\n",
       "      <td>6.221866e-01</td>\n",
       "    </tr>\n",
       "  </tbody>\n",
       "</table>\n",
       "</div>"
      ],
      "text/plain": [
       "  metrics            LR           LR2           RG1           RG2  \\\n",
       "0     MSE  2.224825e+09  2.202314e+09  2.202313e+09  2.202310e+09   \n",
       "1     MAE  1.933552e+04  1.935954e+04  1.935952e+04  1.935936e+04   \n",
       "2      R2  2.023229e-01  2.103938e-01  2.103939e-01  2.103953e-01   \n",
       "\n",
       "            RG3           DT1           DT2           DT3           RF1  \\\n",
       "0  2.202116e+09  1.756950e+09  1.278619e+09  1.629411e+09  1.088157e+09   \n",
       "1  1.935843e+04  1.422670e+04  1.187373e+04  1.583683e+04  1.123619e+04   \n",
       "2  2.104648e-01  3.700724e-01  5.415707e-01  4.157995e-01  6.098577e-01   \n",
       "\n",
       "            RF2  \n",
       "0  1.053770e+09  \n",
       "1  1.112336e+04  \n",
       "2  6.221866e-01  "
      ]
     },
     "execution_count": 31,
     "metadata": {},
     "output_type": "execute_result"
    }
   ],
   "source": [
    "# Try a few values of n_estimators\n",
    "\n",
    "# n_estimators = 50\n",
    "RF2 = RandomForestRegressor(max_depth=20, n_estimators=50)\n",
    "RF2.fit(X_train_scaled, np.squeeze(y_train))\n",
    "\n",
    "# predict on test set\n",
    "y_pred = RF2.predict(X_test_scaled)\n",
    "\n",
    "# add metrics for first random forest\n",
    "metrics['RF2'] = [mean_squared_error(y_test, y_pred), mean_absolute_error(y_test, y_pred), r2_score(y_test, y_pred)]\n",
    "metrics"
   ]
  },
  {
   "cell_type": "code",
   "execution_count": 32,
   "metadata": {},
   "outputs": [
    {
     "data": {
      "text/html": [
       "<div>\n",
       "<style scoped>\n",
       "    .dataframe tbody tr th:only-of-type {\n",
       "        vertical-align: middle;\n",
       "    }\n",
       "\n",
       "    .dataframe tbody tr th {\n",
       "        vertical-align: top;\n",
       "    }\n",
       "\n",
       "    .dataframe thead th {\n",
       "        text-align: right;\n",
       "    }\n",
       "</style>\n",
       "<table border=\"1\" class=\"dataframe\">\n",
       "  <thead>\n",
       "    <tr style=\"text-align: right;\">\n",
       "      <th></th>\n",
       "      <th>metrics</th>\n",
       "      <th>LR</th>\n",
       "      <th>LR2</th>\n",
       "      <th>RG1</th>\n",
       "      <th>RG2</th>\n",
       "      <th>RG3</th>\n",
       "      <th>DT1</th>\n",
       "      <th>DT2</th>\n",
       "      <th>DT3</th>\n",
       "      <th>RF1</th>\n",
       "      <th>RF2</th>\n",
       "      <th>RF3</th>\n",
       "    </tr>\n",
       "  </thead>\n",
       "  <tbody>\n",
       "    <tr>\n",
       "      <th>0</th>\n",
       "      <td>MSE</td>\n",
       "      <td>2.224825e+09</td>\n",
       "      <td>2.202314e+09</td>\n",
       "      <td>2.202313e+09</td>\n",
       "      <td>2.202310e+09</td>\n",
       "      <td>2.202116e+09</td>\n",
       "      <td>1.756950e+09</td>\n",
       "      <td>1.278619e+09</td>\n",
       "      <td>1.629411e+09</td>\n",
       "      <td>1.088157e+09</td>\n",
       "      <td>1.053770e+09</td>\n",
       "      <td>1.048313e+09</td>\n",
       "    </tr>\n",
       "    <tr>\n",
       "      <th>1</th>\n",
       "      <td>MAE</td>\n",
       "      <td>1.933552e+04</td>\n",
       "      <td>1.935954e+04</td>\n",
       "      <td>1.935952e+04</td>\n",
       "      <td>1.935936e+04</td>\n",
       "      <td>1.935843e+04</td>\n",
       "      <td>1.422670e+04</td>\n",
       "      <td>1.187373e+04</td>\n",
       "      <td>1.583683e+04</td>\n",
       "      <td>1.123619e+04</td>\n",
       "      <td>1.112336e+04</td>\n",
       "      <td>1.111607e+04</td>\n",
       "    </tr>\n",
       "    <tr>\n",
       "      <th>2</th>\n",
       "      <td>R2</td>\n",
       "      <td>2.023229e-01</td>\n",
       "      <td>2.103938e-01</td>\n",
       "      <td>2.103939e-01</td>\n",
       "      <td>2.103953e-01</td>\n",
       "      <td>2.104648e-01</td>\n",
       "      <td>3.700724e-01</td>\n",
       "      <td>5.415707e-01</td>\n",
       "      <td>4.157995e-01</td>\n",
       "      <td>6.098577e-01</td>\n",
       "      <td>6.221866e-01</td>\n",
       "      <td>6.241434e-01</td>\n",
       "    </tr>\n",
       "  </tbody>\n",
       "</table>\n",
       "</div>"
      ],
      "text/plain": [
       "  metrics            LR           LR2           RG1           RG2  \\\n",
       "0     MSE  2.224825e+09  2.202314e+09  2.202313e+09  2.202310e+09   \n",
       "1     MAE  1.933552e+04  1.935954e+04  1.935952e+04  1.935936e+04   \n",
       "2      R2  2.023229e-01  2.103938e-01  2.103939e-01  2.103953e-01   \n",
       "\n",
       "            RG3           DT1           DT2           DT3           RF1  \\\n",
       "0  2.202116e+09  1.756950e+09  1.278619e+09  1.629411e+09  1.088157e+09   \n",
       "1  1.935843e+04  1.422670e+04  1.187373e+04  1.583683e+04  1.123619e+04   \n",
       "2  2.104648e-01  3.700724e-01  5.415707e-01  4.157995e-01  6.098577e-01   \n",
       "\n",
       "            RF2           RF3  \n",
       "0  1.053770e+09  1.048313e+09  \n",
       "1  1.112336e+04  1.111607e+04  \n",
       "2  6.221866e-01  6.241434e-01  "
      ]
     },
     "execution_count": 32,
     "metadata": {},
     "output_type": "execute_result"
    }
   ],
   "source": [
    "# n_estimators = 100\n",
    "RF3 = RandomForestRegressor(max_depth=20, n_estimators=100)\n",
    "RF3.fit(X_train_scaled, np.squeeze(y_train))\n",
    "\n",
    "# predict on test set\n",
    "y_pred = RF3.predict(X_test_scaled)\n",
    "\n",
    "# add metrics for first random forest\n",
    "metrics['RF3'] = [mean_squared_error(y_test, y_pred), mean_absolute_error(y_test, y_pred), r2_score(y_test, y_pred)]\n",
    "metrics"
   ]
  },
  {
   "cell_type": "code",
   "execution_count": null,
   "metadata": {},
   "outputs": [
    {
     "name": "stderr",
     "output_type": "stream",
     "text": [
      "/opt/anaconda3/lib/python3.7/site-packages/sklearn/model_selection/_validation.py:516: DataConversionWarning: A column-vector y was passed when a 1d array was expected. Please change the shape of y to (n_samples,), for example using ravel().\n",
      "  estimator.fit(X_train, y_train, **fit_params)\n",
      "/opt/anaconda3/lib/python3.7/site-packages/sklearn/model_selection/_validation.py:516: DataConversionWarning: A column-vector y was passed when a 1d array was expected. Please change the shape of y to (n_samples,), for example using ravel().\n",
      "  estimator.fit(X_train, y_train, **fit_params)\n",
      "/opt/anaconda3/lib/python3.7/site-packages/sklearn/model_selection/_validation.py:516: DataConversionWarning: A column-vector y was passed when a 1d array was expected. Please change the shape of y to (n_samples,), for example using ravel().\n",
      "  estimator.fit(X_train, y_train, **fit_params)\n",
      "/opt/anaconda3/lib/python3.7/site-packages/sklearn/model_selection/_validation.py:516: DataConversionWarning: A column-vector y was passed when a 1d array was expected. Please change the shape of y to (n_samples,), for example using ravel().\n",
      "  estimator.fit(X_train, y_train, **fit_params)\n",
      "/opt/anaconda3/lib/python3.7/site-packages/sklearn/model_selection/_validation.py:516: DataConversionWarning: A column-vector y was passed when a 1d array was expected. Please change the shape of y to (n_samples,), for example using ravel().\n",
      "  estimator.fit(X_train, y_train, **fit_params)\n",
      "/opt/anaconda3/lib/python3.7/site-packages/sklearn/model_selection/_validation.py:516: DataConversionWarning: A column-vector y was passed when a 1d array was expected. Please change the shape of y to (n_samples,), for example using ravel().\n",
      "  estimator.fit(X_train, y_train, **fit_params)\n",
      "/opt/anaconda3/lib/python3.7/site-packages/sklearn/model_selection/_validation.py:516: DataConversionWarning: A column-vector y was passed when a 1d array was expected. Please change the shape of y to (n_samples,), for example using ravel().\n",
      "  estimator.fit(X_train, y_train, **fit_params)\n",
      "/opt/anaconda3/lib/python3.7/site-packages/sklearn/model_selection/_validation.py:516: DataConversionWarning: A column-vector y was passed when a 1d array was expected. Please change the shape of y to (n_samples,), for example using ravel().\n",
      "  estimator.fit(X_train, y_train, **fit_params)\n",
      "/opt/anaconda3/lib/python3.7/site-packages/sklearn/model_selection/_validation.py:516: DataConversionWarning: A column-vector y was passed when a 1d array was expected. Please change the shape of y to (n_samples,), for example using ravel().\n",
      "  estimator.fit(X_train, y_train, **fit_params)\n",
      "/opt/anaconda3/lib/python3.7/site-packages/sklearn/model_selection/_validation.py:516: DataConversionWarning: A column-vector y was passed when a 1d array was expected. Please change the shape of y to (n_samples,), for example using ravel().\n",
      "  estimator.fit(X_train, y_train, **fit_params)\n",
      "/opt/anaconda3/lib/python3.7/site-packages/sklearn/model_selection/_validation.py:516: DataConversionWarning: A column-vector y was passed when a 1d array was expected. Please change the shape of y to (n_samples,), for example using ravel().\n",
      "  estimator.fit(X_train, y_train, **fit_params)\n",
      "/opt/anaconda3/lib/python3.7/site-packages/sklearn/model_selection/_validation.py:516: DataConversionWarning: A column-vector y was passed when a 1d array was expected. Please change the shape of y to (n_samples,), for example using ravel().\n",
      "  estimator.fit(X_train, y_train, **fit_params)\n"
     ]
    }
   ],
   "source": [
    "# This was the randomized search CV to attempt hyperparameter tuning automatically.\n",
    "# This was too computationally intense for my computer to run.\n",
    "\n",
    "from sklearn.model_selection import RandomizedSearchCV\n",
    "from scipy.stats import randint\n",
    "\n",
    "# set up model parameters dict for random search, only trying two parameters\n",
    "\n",
    "model_params = {\n",
    "    'n_estimators': randint(5, 200),\n",
    "    'max_depth': randint(10, 75)\n",
    "}\n",
    "\n",
    "# create random forest regressor model\n",
    "RF_model = RandomForestRegressor()\n",
    "\n",
    "# implement randomized search CV\n",
    "RF_CV = RandomizedSearchCV(RF_model, model_params, n_iter=10, cv=3, random_state=123)\n",
    "model = RF_CV.fit(X_train_scaled, y_train)\n",
    "\n",
    "# get best hyperparameters\n",
    "model.best_estimator_.get_params()"
   ]
  },
  {
   "cell_type": "code",
   "execution_count": null,
   "metadata": {},
   "outputs": [],
   "source": []
  }
 ],
 "metadata": {
  "kernelspec": {
   "display_name": "Python 3",
   "language": "python",
   "name": "python3"
  },
  "language_info": {
   "codemirror_mode": {
    "name": "ipython",
    "version": 3
   },
   "file_extension": ".py",
   "mimetype": "text/x-python",
   "name": "python",
   "nbconvert_exporter": "python",
   "pygments_lexer": "ipython3",
   "version": "3.7.4"
  }
 },
 "nbformat": 4,
 "nbformat_minor": 2
}
